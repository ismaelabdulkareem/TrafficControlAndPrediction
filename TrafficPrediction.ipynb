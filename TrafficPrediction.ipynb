{
 "cells": [
  {
   "cell_type": "code",
   "execution_count": 2,
   "id": "56ea95e6",
   "metadata": {},
   "outputs": [],
   "source": [
    "# Essential libraries for building and evaluating machine learning models\n",
    "from sklearn.model_selection import train_test_split\n",
    "from sklearn.ensemble import RandomForestRegressor\n",
    "from sklearn.svm import SVR\n",
    "from sklearn.metrics import mean_absolute_error\n",
    "from sklearn.preprocessing import StandardScaler\n",
    "import pandas as pd\n",
    "import matplotlib.pyplot as plt"
   ]
  },
  {
   "cell_type": "code",
   "execution_count": 3,
   "id": "9447da92",
   "metadata": {},
   "outputs": [],
   "source": [
    "# Load the dataset\n",
    "df = pd.read_csv(\"Dataset.csv\")"
   ]
  },
  {
   "cell_type": "code",
   "execution_count": 4,
   "id": "7a405826",
   "metadata": {},
   "outputs": [
    {
     "name": "stdout",
     "output_type": "stream",
     "text": [
      "         Day      Date  CodedDay  Zone  Weather  Temperature  Traffic\n",
      "0  Wednesday  1/6/2018         3     2       35           17        2\n",
      "1  Wednesday  1/6/2018         3     3       36           16        3\n",
      "2  Wednesday  1/6/2018         3     4       27           25        5\n",
      "3  Wednesday  1/6/2018         3     5       23           23        3\n",
      "4  Wednesday  1/6/2018         3     6       18           42        2\n"
     ]
    }
   ],
   "source": [
    "# Display the first few rows of the dataset\n",
    "print(df.head())"
   ]
  },
  {
   "cell_type": "code",
   "execution_count": 5,
   "id": "1fe8b9f4",
   "metadata": {},
   "outputs": [
    {
     "name": "stdout",
     "output_type": "stream",
     "text": [
      "          CodedDay         Zone      Weather  Temperature      Traffic\n",
      "count  1439.000000  1439.000000  1439.000000  1439.000000  1439.000000\n",
      "mean      4.000695    72.549687    23.886032    25.011119     3.031967\n",
      "std       1.733054    41.554330    13.576787    11.325376     1.429018\n",
      "min       1.000000     1.000000     0.000000     6.000000     1.000000\n",
      "25%       3.000000    37.000000    12.000000    15.000000     2.000000\n",
      "50%       4.000000    73.000000    24.000000    25.000000     3.000000\n",
      "75%       5.000000   108.500000    35.000000    35.000000     4.000000\n",
      "max       7.000000   144.000000    47.000000    45.000000     5.000000\n"
     ]
    }
   ],
   "source": [
    "# Basic statistics of the dataset\n",
    "print(df.describe())"
   ]
  },
  {
   "cell_type": "code",
   "execution_count": 32,
   "id": "f2b60476",
   "metadata": {},
   "outputs": [],
   "source": [
    "# Data Preprocessing\n",
    "# Assuming 'Date' is in datetime format\n",
    "df['Date'] = pd.to_datetime(df['Date'])\n",
    "df['Day'] = df['Date'].dt.day_name()\n",
    "df['CodedDay'] = df['Day'].map({'Monday': 1, 'Tuesday': 2, 'Wednesday': 3, 'Thursday': 4, 'Friday': 5, 'Saturday': 6, 'Sunday': 7})\n",
    "# One-hot encoding for 'Day'\n",
    "df = pd.get_dummies(df, columns=['Day'], drop_first=True)"
   ]
  },
  {
   "cell_type": "code",
   "execution_count": 33,
   "id": "b280a7b7",
   "metadata": {},
   "outputs": [],
   "source": [
    "# Feature Selection\n",
    "features = ['CodedDay', 'Zone', 'Weather', 'Temperature']\n",
    "X = df[features]\n",
    "y = df['Traffic']\n"
   ]
  },
  {
   "cell_type": "code",
   "execution_count": 34,
   "id": "ca0beda2",
   "metadata": {},
   "outputs": [],
   "source": [
    "# Data Splitting\n",
    "X_train, X_test, y_train, y_test = train_test_split(X, y, test_size=0.25, random_state=42)"
   ]
  },
  {
   "cell_type": "code",
   "execution_count": 35,
   "id": "219c0345",
   "metadata": {},
   "outputs": [],
   "source": [
    "# Model 1: RandomForestRegressor with parameter adjustments\n",
    "rf_model = RandomForestRegressor(n_estimators=100, \n",
    "                                 max_depth=None,\n",
    "                                 min_samples_split=2,\n",
    "                                 min_samples_leaf=1,\n",
    "                                 max_features='auto',\n",
    "                                 random_state=42)\n",
    "rf_model.fit(X_train, y_train)\n",
    "rf_predictions = rf_model.predict(X_test)"
   ]
  },
  {
   "cell_type": "code",
   "execution_count": 36,
   "id": "2a3ff99c",
   "metadata": {},
   "outputs": [],
   "source": [
    "# Model 2: SVR with parameter adjustments\n",
    "svr_model = SVR(kernel='rbf', C=0.1, gamma='scale')\n",
    "svr_model.fit(X_train, y_train)\n",
    "svr_predictions = svr_model.predict(X_test)"
   ]
  },
  {
   "cell_type": "code",
   "execution_count": 37,
   "id": "7f737850",
   "metadata": {},
   "outputs": [
    {
     "name": "stdout",
     "output_type": "stream",
     "text": [
      "RandomForestRegressor Mean Absolute Error: 1.2539\n"
     ]
    }
   ],
   "source": [
    "# Mean Absolute Error (MAE) for RandomForestRegressor\n",
    "rf_mae = mean_absolute_error(y_test, rf_predictions)\n",
    "print(f'RandomForestRegressor Mean Absolute Error: {round(rf_mae, 4)}')"
   ]
  },
  {
   "cell_type": "code",
   "execution_count": 38,
   "id": "656ca3ab",
   "metadata": {},
   "outputs": [
    {
     "name": "stdout",
     "output_type": "stream",
     "text": [
      "SVR Mean Absolute Error: 1.2217\n"
     ]
    }
   ],
   "source": [
    "# Mean Absolute Error (MAE) for SVR\n",
    "svr_mae = mean_absolute_error(y_test, svr_predictions)\n",
    "print(f'SVR Mean Absolute Error: {round(svr_mae, 4)}')"
   ]
  },
  {
   "cell_type": "code",
   "execution_count": 39,
   "id": "cc5ba2f6",
   "metadata": {},
   "outputs": [],
   "source": [
    "# Calculate the mean of feature variables row by row\n",
    "feature_means = X_test.mean(axis=1)"
   ]
  },
  {
   "cell_type": "code",
   "execution_count": 40,
   "id": "bed2545c",
   "metadata": {},
   "outputs": [
    {
     "name": "stdout",
     "output_type": "stream",
     "text": [
      "RandomForestRegressor - Test Data vs Predicted Data:\n",
      "Feature means | Actual Traffic | Predicted Traffic\n",
      "18.00 | 2.00 | 3.02\n",
      "25.50 | 2.00 | 3.10\n",
      "41.75 | 5.00 | 2.35\n",
      "35.75 | 1.00 | 2.33\n",
      "22.75 | 3.00 | 2.92\n",
      "49.75 | 5.00 | 3.26\n",
      "38.75 | 4.00 | 2.68\n",
      "47.25 | 3.00 | 3.14\n",
      "27.00 | 2.00 | 2.78\n",
      "45.25 | 2.00 | 2.37\n",
      "--------------------------------------------------\n",
      "SVR - Test Data vs Predicted Data:\n",
      "Feature means | Actual Traffic | Predicted Traffic\n",
      "18.00 | 2.00 | 2.97\n",
      "25.50 | 2.00 | 2.98\n",
      "41.75 | 5.00 | 2.95\n",
      "35.75 | 1.00 | 3.06\n",
      "22.75 | 3.00 | 3.11\n",
      "49.75 | 5.00 | 2.90\n",
      "38.75 | 4.00 | 3.12\n",
      "47.25 | 3.00 | 2.90\n",
      "27.00 | 2.00 | 3.04\n",
      "45.25 | 2.00 | 3.01\n"
     ]
    }
   ],
   "source": [
    "# Print the test data and corresponding predicted data for RandomForestRegressor \n",
    "print(\"RandomForestRegressor - Test Data vs Predicted Data:\")\n",
    "print(\"Feature means | Actual Traffic | Predicted Traffic\")\n",
    "for temp, actual, predicted in zip(feature_means[:10], y_test[:10], rf_predictions[:10]):\n",
    "    print(f\"{temp:.2f} | {actual:.2f} | {predicted:.2f}\")\n",
    "\n",
    "# Print a separator line\n",
    "print(\"-\" * 50)\n",
    "\n",
    "# Print the test data and corresponding predicted data for SVR\n",
    "print(\"SVR - Test Data vs Predicted Data:\")\n",
    "print(\"Feature means | Actual Traffic | Predicted Traffic\")\n",
    "for temp, actual, predicted in zip(feature_means[:10], y_test[:10], svr_predictions[:10]):\n",
    "    print(f\"{temp:.2f} | {actual:.2f} | {predicted:.2f}\")"
   ]
  },
  {
   "cell_type": "code",
   "execution_count": 41,
   "id": "79b8ea0a",
   "metadata": {},
   "outputs": [
    {
     "data": {
      "image/png": "[encoded data removed]",
      "text/plain": [
       "<Figure size 864x432 with 1 Axes>"
      ]
     },
     "metadata": {
      "needs_background": "light"
     },
     "output_type": "display_data"
    }
   ],
   "source": [
    "# Visualize actual vs predicted values for RandomForestRegressor\n",
    "plt.figure(figsize=(12, 6))\n",
    "plt.subplot(2, 1, 1)\n",
    "plt.scatter(feature_means, y_test, color='blue', label='Actual')\n",
    "plt.scatter(feature_means, rf_predictions, color='red', label='Predicted')\n",
    "plt.title('RandomForestRegressor: Actual vs Predicted Traffic')\n",
    "plt.xlabel('Feature means')\n",
    "plt.ylabel('Traffic')\n",
    "plt.legend()\n",
    "\n",
    "plt.tight_layout()\n",
    "plt.show()"
   ]
  },
  {
   "cell_type": "code",
   "execution_count": 42,
   "id": "18ef8540",
   "metadata": {},
   "outputs": [
    {
     "data": {
      "image/png": "[encoded data removed]",
      "text/plain": [
       "<Figure size 864x432 with 1 Axes>"
      ]
     },
     "metadata": {
      "needs_background": "light"
     },
     "output_type": "display_data"
    }
   ],
   "source": [
    "# Visualize actual vs predicted values for SVR\n",
    "plt.figure(figsize=(12, 6))\n",
    "plt.subplot(2, 1, 2)\n",
    "plt.scatter(feature_means, y_test, color='blue', label='Actual')\n",
    "plt.scatter(feature_means, svr_predictions, color='green', label='Predicted')\n",
    "plt.title('SVR: Actual vs Predicted Traffic')\n",
    "plt.xlabel('Feature means')\n",
    "plt.ylabel('Traffic')\n",
    "plt.legend() \n",
    "\n",
    "plt.tight_layout()\n",
    "plt.show()"
   ]
  },
  {
   "cell_type": "code",
   "execution_count": null,
   "id": "8e47cdf4",
   "metadata": {},
   "outputs": [],
   "source": []
  },
  {
   "cell_type": "code",
   "execution_count": null,
   "id": "c60f5e71",
   "metadata": {},
   "outputs": [],
   "source": []
  }
 ],
 "metadata": {
  "kernelspec": {
   "display_name": "Python 3 (ipykernel)",
   "language": "python",
   "name": "python3"
  },
  "language_info": {
   "codemirror_mode": {
    "name": "ipython",
    "version": 3
   },
   "file_extension": ".py",
   "mimetype": "text/x-python",
   "name": "python",
   "nbconvert_exporter": "python",
   "pygments_lexer": "ipython3",
   "version": "3.9.7"
  }
 },
 "nbformat": 4,
 "nbformat_minor": 5
}
